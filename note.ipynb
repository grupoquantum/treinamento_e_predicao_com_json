{
 "cells": [
  {
   "cell_type": "markdown",
   "metadata": {},
   "source": [
    "<h3>Manipulação de Arquivos JSON com a Base de Dados do IRIS</h3>"
   ]
  },
  {
   "cell_type": "code",
   "execution_count": 4,
   "metadata": {},
   "outputs": [
    {
     "name": "stdout",
     "output_type": "stream",
     "text": [
      "╒═══════════════╤══════════════╤═══════════════╤══════════════╤═══════════╕\n",
      "│   sepalLength │   sepalWidth │   petalLength │   petalWidth │ species   │\n",
      "╞═══════════════╪══════════════╪═══════════════╪══════════════╪═══════════╡\n",
      "│           5.1 │          3.5 │           1.4 │          0.2 │ setosa    │\n",
      "├───────────────┼──────────────┼───────────────┼──────────────┼───────────┤\n",
      "│           4.9 │          3   │           1.4 │          0.2 │ setosa    │\n",
      "├───────────────┼──────────────┼───────────────┼──────────────┼───────────┤\n",
      "│           4.7 │          3.2 │           1.3 │          0.2 │ setosa    │\n",
      "├───────────────┼──────────────┼───────────────┼──────────────┼───────────┤\n",
      "│           4.6 │          3.1 │           1.5 │          0.2 │ setosa    │\n",
      "├───────────────┼──────────────┼───────────────┼──────────────┼───────────┤\n",
      "│           5   │          3.6 │           1.4 │          0.2 │ setosa    │\n",
      "╘═══════════════╧══════════════╧═══════════════╧══════════════╧═══════════╛\n",
      "species: ['virginica', 'versicolor', 'setosa']\n"
     ]
    }
   ],
   "source": [
    "from Neuraline.Utilities.data import DataTable, DataExploration # importação das classes para manipulação e exploração de dados\n",
    "data_table, data_exploration = DataTable(), DataExploration() # criação dos objetos com a instanciação das classes\n",
    "url_path = 'iris.json' # variável com o endereço do arquivo\n",
    "data_table.visualization_json_inline(url_path=url_path, limit=5) # visualização dos dados, somente as 5 primeiras linhas\n",
    "labels = data_exploration.getOutputTypesJSON(url_path=url_path, output_column='species') # captura dos tipos de saída\n",
    "print(f'species: {labels}') # exibição dos tipos de saída"
   ]
  },
  {
   "cell_type": "code",
   "execution_count": 10,
   "metadata": {},
   "outputs": [
    {
     "data": {
      "text/plain": [
       "True"
      ]
     },
     "execution_count": 10,
     "metadata": {},
     "output_type": "execute_result"
    }
   ],
   "source": [
    "list_inputs, list_outputs = ['sepalLength', 'sepalWidth', 'petalLength', 'petalWidth'], ['species'] # definição das listas de entrada e saída\n",
    "inputs_train, outputs_train, inputs_test, outputs_test = data_exploration.dataSeparationJSON( # método de separação dos dados entre treinamento e teste\n",
    "    url_path=url_path, # endereço do arquivo de leitura\n",
    "    list_inputs=list_inputs, # lista com os nomes das colunas que serão usadas como entrada\n",
    "    list_outputs=list_outputs, # lista com os nomes das colunas que serão usadas como saída\n",
    "    training_percentage=.8, # percentual relativo a proporção dos dados que serão usados para treino\n",
    "    test_percentage=.2 # percentual relativo a proporção dos dados que serão usados para teste\n",
    ")\n",
    "from Neuraline.ArtificialIntelligence.MachineLearning.SupervisedLearning.support_vector_machine import SupportVectorMachine # importação do svm\n",
    "support_vector_machine = SupportVectorMachine() # criação do objeto com a instanciação da classe\n",
    "support_vector_machine.fit(inputs=inputs_train, outputs=outputs_train, gamma=len(inputs_train)) # treinamento do modelo com separação máxima das classes"
   ]
  },
  {
   "cell_type": "code",
   "execution_count": 11,
   "metadata": {},
   "outputs": [
    {
     "data": {
      "text/plain": [
       "{'assertiveness': 0.9666666666666667, 'error': 0.033333333333333326}"
      ]
     },
     "execution_count": 11,
     "metadata": {},
     "output_type": "execute_result"
    }
   ],
   "source": [
    "result_test = support_vector_machine.test(inputs=inputs_test, outputs=outputs_test) # teste de assertividade do modelo\n",
    "result_test # exibição do resultado probabilístico do teste"
   ]
  },
  {
   "cell_type": "code",
   "execution_count": 17,
   "metadata": {},
   "outputs": [
    {
     "data": {
      "image/png": "[encoded data removed]",
      "text/plain": [
       "<Figure size 576x288 with 1 Axes>"
      ]
     },
     "metadata": {
      "needs_background": "light"
     },
     "output_type": "display_data"
    }
   ],
   "source": [
    "from Neuraline.Utilities.chart import Chart # importação da classe para manipulação de gráficos\n",
    "chart = Chart() # criação do objeto com a instanciação da classe\n",
    "x, y = list(result_test.keys()), [y*100 for y in list(result_test.values())] # definição das listas dos eixos X e Y do gráfico\n",
    "chart.plotBAR(x=x, y=y, x_label='Acertos VS Erros', y_label='Percentual %', title='Teste de Assertividade', bar_values=False) # exibição do gráfico"
   ]
  }
 ],
 "metadata": {
  "kernelspec": {
   "display_name": "Python 3.10.4 64-bit",
   "language": "python",
   "name": "python3"
  },
  "language_info": {
   "codemirror_mode": {
    "name": "ipython",
    "version": 3
   },
   "file_extension": ".py",
   "mimetype": "text/x-python",
   "name": "python",
   "nbconvert_exporter": "python",
   "pygments_lexer": "ipython3",
   "version": "3.10.4"
  },
  "orig_nbformat": 4,
  "vscode": {
   "interpreter": {
    "hash": "916dbcbb3f70747c44a77c7bcd40155683ae19c65e1c03b4aa3499c5328201f1"
   }
  }
 },
 "nbformat": 4,
 "nbformat_minor": 2
}
